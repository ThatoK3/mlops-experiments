{
 "cells": [
  {
   "cell_type": "code",
   "execution_count": null,
   "metadata": {
    "id": "bCn5eb7slx7j"
   },
   "outputs": [],
   "source": [
    "# Install required packages\n",
    "#!pip install imbalanced-learn mlflow"
   ]
  },
  {
   "cell_type": "code",
   "execution_count": 1,
   "metadata": {
    "id": "js-rnEAxl0wP"
   },
   "outputs": [],
   "source": [
    "import pandas as pd\n",
    "import numpy as np\n",
    "import matplotlib.pyplot as plt\n",
    "import seaborn as sns\n",
    "from sklearn.model_selection import train_test_split\n",
    "from sklearn.metrics import (accuracy_score, classification_report,\n",
    "                           roc_auc_score, recall_score, f1_score,\n",
    "                           precision_score, average_precision_score)\n",
    "from sklearn.preprocessing import StandardScaler\n",
    "from sklearn.svm import SVC\n",
    "from sklearn.compose import ColumnTransformer\n",
    "from sklearn.preprocessing import OneHotEncoder\n",
    "from sklearn.impute import SimpleImputer\n",
    "from sklearn.pipeline import Pipeline\n",
    "import joblib\n",
    "import mlflow\n",
    "import warnings\n",
    "warnings.filterwarnings(\"ignore\")"
   ]
  },
  {
   "cell_type": "code",
   "execution_count": 2,
   "metadata": {},
   "outputs": [
    {
     "name": "stdout",
     "output_type": "stream",
     "text": [
      "/home/jovyan\n"
     ]
    }
   ],
   "source": [
    "%cd /home/jovyan/"
   ]
  },
  {
   "cell_type": "code",
   "execution_count": 3,
   "metadata": {
    "id": "FtRPSkwel4xr"
   },
   "outputs": [],
   "source": [
    "# Data Loading and Preprocessing\n",
    "df = pd.read_csv(\"work/notebook_experiments/healthcare-dataset-stroke-data.csv\")"
   ]
  },
  {
   "cell_type": "code",
   "execution_count": 4,
   "metadata": {
    "id": "rCTsekySl54Z"
   },
   "outputs": [],
   "source": [
    "# Data Cleaning\n",
    "df[\"bmi\"] = df[\"bmi\"].fillna(df[\"bmi\"].median())\n",
    "df = df[df['gender'] != 'Other']\n",
    "\n",
    "# Feature Selection\n",
    "selected_features = ['gender', 'age', 'hypertension', 'heart_disease',\n",
    "                    'avg_glucose_level', 'bmi', 'smoking_status', 'stroke']\n",
    "df = df[selected_features]\n",
    "\n",
    "# Feature Engineering\n",
    "df_fe = df.copy()\n",
    "# 1. Age Grouping\n",
    "df_fe['age_group'] = pd.cut(df_fe['age'],\n",
    "                           bins=[0, 50, 80, 120],\n",
    "                           labels=['Young', 'Middle-aged', 'Senior'])\n",
    "\n",
    "# 2. BMI Categories\n",
    "df_fe['bmi_category'] = pd.cut(df_fe['bmi'],\n",
    "                              bins=[0, 18.5, 25, 30, 35, 40, 100],\n",
    "                              labels=['Underweight', 'Normal', 'Overweight',\n",
    "                                     'Obese I', 'Obese II', 'Obese III'])\n",
    "\n",
    "# 3. Glucose Categories\n",
    "df_fe['glucose_category'] = pd.cut(df_fe['avg_glucose_level'],\n",
    "                                  bins=[0, 70, 100, 126, 200, 300],\n",
    "                                  labels=['Low', 'Normal', 'Prediabetic',\n",
    "                                         'Diabetic', 'Severe'])\n"
   ]
  },
  {
   "cell_type": "code",
   "execution_count": 5,
   "metadata": {
    "id": "1pxXPvmHmBxN"
   },
   "outputs": [],
   "source": [
    "# Identify feature types\n",
    "categorical_cols = ['gender', 'smoking_status', 'age_group',\n",
    "                   'bmi_category', 'glucose_category']\n",
    "numerical_cols = [col for col in df_fe.columns\n",
    "                 if col not in categorical_cols + ['stroke']]\n",
    "\n",
    "# Preprocessing\n",
    "numeric_transformer = Pipeline(steps=[\n",
    "    ('imputer', SimpleImputer(strategy='median')),\n",
    "    ('scaler', StandardScaler())\n",
    "])\n",
    "\n",
    "categorical_transformer = Pipeline(steps=[\n",
    "    ('imputer', SimpleImputer(strategy='most_frequent')),\n",
    "    ('encoder', OneHotEncoder(handle_unknown='ignore'))\n",
    "])\n",
    "\n",
    "preprocessor = ColumnTransformer(transformers=[\n",
    "    ('num', numeric_transformer, numerical_cols),\n",
    "    ('cat', categorical_transformer, categorical_cols)\n",
    "])\n"
   ]
  },
  {
   "cell_type": "code",
   "execution_count": 6,
   "metadata": {
    "id": "3eLi_VOYmIv4"
   },
   "outputs": [],
   "source": [
    "# Train-test split\n",
    "X = df_fe.drop(columns=['stroke'])\n",
    "y = df_fe['stroke']\n",
    "X_train, X_test, y_train, y_test = train_test_split(\n",
    "    X, y, test_size=0.2, random_state=42, stratify=y)\n",
    "\n",
    "# Calculate class weights\n",
    "class_weights = {1: len(y_train[y_train == 0]) / len(y_train[y_train == 1]),\n",
    "                0: 1.0}  # Inverse ratio for minority class\n"
   ]
  },
  {
   "cell_type": "code",
   "execution_count": 9,
   "metadata": {},
   "outputs": [
    {
     "name": "stderr",
     "output_type": "stream",
     "text": [
      "2025/06/19 19:40:14 INFO mlflow.tracking.fluent: Experiment with name 'Stroke_Prediction_SVM' does not exist. Creating a new experiment.\n"
     ]
    }
   ],
   "source": [
    "# MLflow Experiment\n",
    "mlflow.set_experiment(\"Stroke_Prediction_SVM\")\n",
    "mlflow.set_tracking_uri(\"http://45.151.153.107:5000\")"
   ]
  },
  {
   "cell_type": "code",
   "execution_count": 10,
   "metadata": {
    "colab": {
     "base_uri": "https://localhost:8080/"
    },
    "id": "jr-ckomfbXYV",
    "outputId": "e8dc5c54-06e9-45b5-ac9d-e170c5cae781"
   },
   "outputs": [
    {
     "name": "stderr",
     "output_type": "stream",
     "text": [
      "\u001b[31m2025/06/19 19:40:23 WARNING mlflow.models.model: Model logged without a signature and input example. Please set `input_example` parameter when logging the model to auto infer the model signature.\u001b[0m\n"
     ]
    },
    {
     "name": "stdout",
     "output_type": "stream",
     "text": [
      "\n",
      "--- SVM Classifier ---\n",
      "              precision    recall  f1-score   support\n",
      "\n",
      "           0     0.9737    0.7623    0.8552       972\n",
      "           1     0.1149    0.6000    0.1929        50\n",
      "\n",
      "    accuracy                         0.7544      1022\n",
      "   macro avg     0.5443    0.6812    0.5240      1022\n",
      "weighted avg     0.9317    0.7544    0.8228      1022\n",
      "\n",
      "ROC-AUC: 0.7661\n",
      "PR-AUC: 0.1232\n",
      "🏃 View run Stroke_Prediction_SVM_v1 at: http://45.151.153.107:5000/#/experiments/4/runs/b4b28aae4a09404d80c231256fb58a8b\n",
      "🧪 View experiment at: http://45.151.153.107:5000/#/experiments/4\n"
     ]
    }
   ],
   "source": [
    "\n",
    "with mlflow.start_run(run_name=\"Stroke_Prediction_SVM_v1\"):\n",
    "    # SVM Pipeline\n",
    "    svm_pipeline = Pipeline(steps=[\n",
    "        ('preprocessor', preprocessor),\n",
    "        ('classifier', SVC(\n",
    "            kernel='rbf',\n",
    "            class_weight=class_weights,\n",
    "            probability=True,  # Enable probability estimates\n",
    "            random_state=42,\n",
    "            gamma='scale',\n",
    "            C=1.0\n",
    "        ))\n",
    "    ])\n",
    "\n",
    "    mlflow.set_tag(\"mlflow.user\", \"Thato\")\n",
    "\n",
    "    # Train model\n",
    "    svm_pipeline.fit(X_train, y_train)\n",
    "\n",
    "    # Predictions\n",
    "    y_pred = svm_pipeline.predict(X_test)\n",
    "    y_proba = svm_pipeline.predict_proba(X_test)[:, 1]\n",
    "\n",
    "    # Metrics\n",
    "    metrics = {\n",
    "        'accuracy': accuracy_score(y_test, y_pred),\n",
    "        'precision': precision_score(y_test, y_pred, zero_division=0),\n",
    "        'recall': recall_score(y_test, y_pred),\n",
    "        'f1': f1_score(y_test, y_pred),\n",
    "        'roc_auc': roc_auc_score(y_test, y_proba),\n",
    "        'pr_auc': average_precision_score(y_test, y_proba)\n",
    "    }\n",
    "\n",
    "    # Log parameters\n",
    "    mlflow.log_params({\n",
    "        'kernel': 'rbf',\n",
    "        'class_weight': class_weights,\n",
    "        'gamma': 'scale',\n",
    "        'C': 1.0\n",
    "    })\n",
    "\n",
    "    # Log metrics\n",
    "    mlflow.log_metrics(metrics)\n",
    "\n",
    "    # Save model\n",
    "    joblib.dump(svm_pipeline, \"svm_model.pkl\")\n",
    "    mlflow.sklearn.log_model(svm_pipeline, \"svm_model\")\n",
    "\n",
    "    # Results\n",
    "    print(\"\\n--- SVM Classifier ---\")\n",
    "    print(classification_report(y_test, y_pred, digits=4))\n",
    "    print(f\"ROC-AUC: {metrics['roc_auc']:.4f}\")\n",
    "    print(f\"PR-AUC: {metrics['pr_auc']:.4f}\")\n",
    "\n",
    "    # Feature Coefficients (for linear kernel)\n",
    "    try:\n",
    "        if svm_pipeline.named_steps['classifier'].kernel == 'linear':\n",
    "            coefficients = svm_pipeline.named_steps['classifier'].coef_[0]\n",
    "            feature_names = (numerical_cols +\n",
    "                           list(svm_pipeline.named_steps['preprocessor']\n",
    "                               .named_transformers_['cat']\n",
    "                               .named_steps['encoder']\n",
    "                               .get_feature_names_out(categorical_cols)))\n",
    "\n",
    "            plt.figure(figsize=(10, 6))\n",
    "            plt.barh(feature_names, coefficients)\n",
    "            plt.title(\"SVM Feature Coefficients\")\n",
    "            plt.tight_layout()\n",
    "            plt.savefig(\"feature_importance.png\")\n",
    "            mlflow.log_artifact(\"feature_importance.png\")\n",
    "            plt.close()\n",
    "    except Exception as e:\n",
    "        print(f\"Feature coefficients not available for RBF kernel: {str(e)}\")\n",
    "\n",
    "    # Confusion Matrix\n",
    "    from sklearn.metrics import confusion_matrix, ConfusionMatrixDisplay\n",
    "    cm = confusion_matrix(y_test, y_pred)\n",
    "    disp = ConfusionMatrixDisplay(cm, display_labels=['No Stroke', 'Stroke'])\n",
    "    disp.plot(cmap='Blues', values_format='d')\n",
    "    plt.title(\"Confusion Matrix\")\n",
    "    plt.savefig(\"confusion_matrix.png\")\n",
    "    mlflow.log_artifact(\"confusion_matrix.png\")\n",
    "    plt.close()\n",
    "\n",
    "    # PR Curve\n",
    "    from sklearn.metrics import PrecisionRecallDisplay\n",
    "    PrecisionRecallDisplay.from_predictions(y_test, y_proba, name=\"SVM\")\n",
    "    plt.title(\"Precision-Recall Curve\")\n",
    "    plt.savefig(\"pr_curve.png\")\n",
    "    mlflow.log_artifact(\"pr_curve.png\")\n",
    "    plt.close()"
   ]
  },
  {
   "cell_type": "code",
   "execution_count": null,
   "metadata": {},
   "outputs": [],
   "source": []
  }
 ],
 "metadata": {
  "colab": {
   "provenance": []
  },
  "kernelspec": {
   "display_name": "Python 3 (ipykernel)",
   "language": "python",
   "name": "python3"
  },
  "language_info": {
   "codemirror_mode": {
    "name": "ipython",
    "version": 3
   },
   "file_extension": ".py",
   "mimetype": "text/x-python",
   "name": "python",
   "nbconvert_exporter": "python",
   "pygments_lexer": "ipython3",
   "version": "3.11.6"
  }
 },
 "nbformat": 4,
 "nbformat_minor": 4
}
