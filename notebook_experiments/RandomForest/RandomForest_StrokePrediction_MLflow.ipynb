{
 "cells": [
  {
   "cell_type": "markdown",
   "metadata": {
    "id": "9hx6PyRW9L3M"
   },
   "source": [
    "Random Forest experiment with MLflow tracking"
   ]
  },
  {
   "cell_type": "code",
   "execution_count": 13,
   "metadata": {
    "colab": {
     "base_uri": "https://localhost:8080/"
    },
    "id": "rwpnXXSp9QHH",
    "outputId": "429440fa-3031-41d4-df80-3fa346545f6d"
   },
   "outputs": [],
   "source": [
    "#!pip install mlflow\n",
    "#!pip install imbalanced-learn mlflow"
   ]
  },
  {
   "cell_type": "code",
   "execution_count": 1,
   "metadata": {
    "id": "cEQ9HsfZ-sBO"
   },
   "outputs": [],
   "source": [
    "import pandas as pd\n",
    "import numpy as np\n",
    "import matplotlib.pyplot as plt\n",
    "import seaborn as sns\n",
    "from sklearn.model_selection import train_test_split\n",
    "from sklearn.metrics import accuracy_score, classification_report, roc_auc_score, recall_score, f1_score, precision_score\n",
    "from sklearn.preprocessing import StandardScaler\n",
    "from imblearn.over_sampling import SMOTE\n",
    "from imblearn.pipeline import Pipeline\n",
    "from sklearn.compose import ColumnTransformer\n",
    "from sklearn.preprocessing import OneHotEncoder\n",
    "from sklearn.impute import SimpleImputer\n",
    "import joblib\n",
    "from sklearn.ensemble import RandomForestClassifier\n",
    "import mlflow\n",
    "import mlflow.sklearn\n",
    "import warnings\n",
    "warnings.filterwarnings(\"ignore\")"
   ]
  },
  {
   "cell_type": "code",
   "execution_count": 2,
   "metadata": {},
   "outputs": [
    {
     "name": "stdout",
     "output_type": "stream",
     "text": [
      "/home/jovyan\n"
     ]
    }
   ],
   "source": [
    "%cd /home/jovyan/"
   ]
  },
  {
   "cell_type": "code",
   "execution_count": 3,
   "metadata": {
    "id": "AjhAFsgSCKzK"
   },
   "outputs": [],
   "source": [
    "# Data Loading and Preprocessing\n",
    "df = pd.read_csv(\"work/notebook_experiments/healthcare-dataset-stroke-data.csv\")"
   ]
  },
  {
   "cell_type": "code",
   "execution_count": 4,
   "metadata": {
    "id": "2uLlsR0hCOnh"
   },
   "outputs": [],
   "source": [
    "# Data Cleaning\n",
    "df[\"bmi\"] = df[\"bmi\"].fillna(df[\"bmi\"].median())\n",
    "df = df[df['gender'] != 'Other']"
   ]
  },
  {
   "cell_type": "code",
   "execution_count": 5,
   "metadata": {
    "id": "C2QP2pX5CZPB"
   },
   "outputs": [],
   "source": [
    "# Feature Selection\n",
    "selected_features = ['gender', 'age', 'hypertension', 'heart_disease',\n",
    "                    'avg_glucose_level', 'bmi', 'smoking_status', 'stroke']\n",
    "df = df[selected_features]"
   ]
  },
  {
   "cell_type": "code",
   "execution_count": 6,
   "metadata": {
    "id": "Cw9blHCGCuKH"
   },
   "outputs": [],
   "source": [
    "# Feature Engineering\n",
    "df_fe = df.copy()\n",
    "# 1. Age Grouping\n",
    "age_bins = [0, 50, 80, 120]\n",
    "age_labels = ['Young adult', 'Middle-aged', 'Very old']\n",
    "df_fe['age_group'] = pd.cut(df_fe['age'], bins=age_bins, labels=age_labels, right=False)\n",
    "\n",
    "# 2. BMI Categories\n",
    "bmi_bins = [0, 18.5, 25, 30, 35, 40, 100]\n",
    "bmi_labels = ['Underweight', 'Healthy Weight', 'Overweight', 'Class 1 Obesity', 'Class 2 Obesity', 'Class 3 Obesity']\n",
    "df_fe['bmi_category'] = pd.cut(df_fe['bmi'], bins=bmi_bins, labels=bmi_labels, right=False)\n",
    "\n",
    "# 3. Interaction Feature\n",
    "df_fe['age_hypertension'] = df_fe['age'] * df_fe['hypertension']\n",
    "\n",
    "# 4. Glucose Level Binning\n",
    "glucose_bins = [0, 70, 85, 100, 110, 126, 140, 300]\n",
    "glucose_labels = ['Hypoglycemia', 'Low Normal', 'Normal', 'Elevated', 'Pre-diabetic', 'Borderline Diabetic', 'Diabetic']\n",
    "df_fe['glucose_category'] = pd.cut(df_fe['avg_glucose_level'], bins=glucose_bins, labels=glucose_labels, right=False)\n"
   ]
  },
  {
   "cell_type": "code",
   "execution_count": 7,
   "metadata": {
    "id": "2YpItrA5C1kH"
   },
   "outputs": [],
   "source": [
    "# Defining categorical and numerical columns\n",
    "categorical_cols = ['gender', 'smoking_status','age_group', 'bmi_category', 'glucose_category']\n",
    "numerical_cols = [col for col in df_fe.columns if col not in categorical_cols + ['stroke']]\n",
    "\n",
    "# Preprocessing pipelines\n",
    "numeric_transformer = Pipeline(steps=[\n",
    "    ('imputer', SimpleImputer(strategy='mean')),\n",
    "    ('scaler', StandardScaler())\n",
    "])\n",
    "\n",
    "categorical_transformer = Pipeline(steps=[\n",
    "    ('imputer', SimpleImputer(strategy='most_frequent')),\n",
    "    ('encoder', OneHotEncoder(drop='first', handle_unknown='ignore')),\n",
    "])\n",
    "\n",
    "preprocessor = ColumnTransformer(transformers=[\n",
    "    ('num', numeric_transformer, numerical_cols),\n",
    "    ('cat', categorical_transformer, categorical_cols)\n",
    "])"
   ]
  },
  {
   "cell_type": "code",
   "execution_count": 8,
   "metadata": {
    "id": "VOHcemr0C6Z5"
   },
   "outputs": [],
   "source": [
    "# Train-test split\n",
    "X = df_fe.drop(columns=['stroke'])\n",
    "y = df_fe['stroke']\n",
    "X_train, X_test, y_train, y_test = train_test_split(X, y, test_size=0.2, random_state=42)"
   ]
  },
  {
   "cell_type": "code",
   "execution_count": 10,
   "metadata": {
    "colab": {
     "base_uri": "https://localhost:8080/"
    },
    "id": "wwR-k7nHDAhJ",
    "outputId": "6685449e-4eb9-4bf2-8b65-ff986167eb31"
   },
   "outputs": [
    {
     "name": "stderr",
     "output_type": "stream",
     "text": [
      "2025/06/19 19:38:27 INFO mlflow.tracking.fluent: Experiment with name 'Stroke_Prediction_RandomForest' does not exist. Creating a new experiment.\n"
     ]
    }
   ],
   "source": [
    "# MLflow Experiment\n",
    "mlflow.set_experiment(\"Stroke_Prediction_RandomForest\")\n",
    "mlflow.set_tracking_uri(\"http://45.151.153.107:5000\")"
   ]
  },
  {
   "cell_type": "code",
   "execution_count": 11,
   "metadata": {
    "colab": {
     "base_uri": "https://localhost:8080/",
     "height": 688
    },
    "id": "7ucgHGKh8igJ",
    "outputId": "9e193b7c-29fe-4a71-edd2-87ae6c0d1cd3"
   },
   "outputs": [
    {
     "name": "stderr",
     "output_type": "stream",
     "text": [
      "\u001b[31m2025/06/19 19:38:36 WARNING mlflow.models.model: Model logged without a signature and input example. Please set `input_example` parameter when logging the model to auto infer the model signature.\u001b[0m\n"
     ]
    },
    {
     "name": "stdout",
     "output_type": "stream",
     "text": [
      "--- Random Forest ---\n",
      "              precision    recall  f1-score   support\n",
      "\n",
      "           0     0.9549    0.8812    0.9166       960\n",
      "           1     0.1618    0.3548    0.2222        62\n",
      "\n",
      "    accuracy                         0.8493      1022\n",
      "   macro avg     0.5583    0.6180    0.5694      1022\n",
      "weighted avg     0.9067    0.8493    0.8745      1022\n",
      "\n",
      "ROC-AUC: 0.8067540322580645\n",
      "🏃 View run Stroke_Prediction_RandomForest_v1 at: http://45.151.153.107:5000/#/experiments/3/runs/42e8f81e57a14de291f05824dce70bdb\n",
      "🧪 View experiment at: http://45.151.153.107:5000/#/experiments/3\n"
     ]
    },
    {
     "data": {
      "image/png": "[encoded data removed]",
      "text/plain": [
       "<Figure size 600x400 with 1 Axes>"
      ]
     },
     "metadata": {},
     "output_type": "display_data"
    }
   ],
   "source": [
    "with mlflow.start_run(run_name=\"Stroke_Prediction_RandomForest_v1\"):\n",
    "    # Define and train model\n",
    "    rf_pipeline = Pipeline(steps=[\n",
    "        ('preprocessing', preprocessor),\n",
    "        ('smote', SMOTE(random_state=42)),\n",
    "        ('classifier', RandomForestClassifier(\n",
    "            n_estimators=200,\n",
    "            max_depth=10,\n",
    "            min_samples_split=5,\n",
    "            random_state=42\n",
    "        ))\n",
    "    ])\n",
    "\n",
    "    mlflow.set_tag(\"mlflow.user\", \"Thato\")\n",
    "\n",
    "    rf_pipeline.fit(X_train, y_train)\n",
    "\n",
    "    # Make predictions\n",
    "    y_pred_rf = rf_pipeline.predict(X_test)\n",
    "    y_proba_rf = rf_pipeline.predict_proba(X_test)[:, 1]\n",
    "\n",
    "    # Calculate metrics\n",
    "    accuracy = accuracy_score(y_test, y_pred_rf)\n",
    "    precision = precision_score(y_test, y_pred_rf, zero_division=0)\n",
    "    recall = recall_score(y_test, y_pred_rf)\n",
    "    f1 = f1_score(y_test, y_pred_rf)\n",
    "    roc_auc = roc_auc_score(y_test, y_proba_rf)\n",
    "\n",
    "    # Log parameters\n",
    "    mlflow.log_param(\"n_estimators\", 200)\n",
    "    mlflow.log_param(\"max_depth\", 10)\n",
    "    mlflow.log_param(\"min_samples_split\", 5)\n",
    "\n",
    "    # Log metrics\n",
    "    mlflow.log_metric(\"accuracy\", accuracy)\n",
    "    mlflow.log_metric(\"precision\", precision)\n",
    "    mlflow.log_metric(\"recall\", recall)\n",
    "    mlflow.log_metric(\"f1_score\", f1)\n",
    "    mlflow.log_metric(\"roc_auc\", roc_auc)\n",
    "\n",
    "    # Log model\n",
    "    mlflow.sklearn.log_model(rf_pipeline, \"random_forest_model\")\n",
    "\n",
    "    # Save model locally\n",
    "    joblib.dump(rf_pipeline, \"Random_Forest.pkl\")\n",
    "\n",
    "    # Print results\n",
    "    print(\"--- Random Forest ---\")\n",
    "    print(classification_report(y_test, y_pred_rf, digits=4))\n",
    "    print(\"ROC-AUC:\", roc_auc)\n",
    "\n",
    "    # Log artifacts (plots)\n",
    "    plt.figure(figsize=(6, 4))\n",
    "    sns.countplot(x=y_test)\n",
    "    plt.title('Test Set Class Distribution')\n",
    "    plt.savefig(\"class_distribution.png\")\n",
    "    mlflow.log_artifact(\"class_distribution.png\")\n",
    "\n",
    "    # Confusion Matrix\n",
    "    from sklearn.metrics import confusion_matrix, ConfusionMatrixDisplay\n",
    "    cm = confusion_matrix(y_test, y_pred_rf)\n",
    "    disp = ConfusionMatrixDisplay(confusion_matrix=cm, display_labels=[\"No Stroke\", \"Stroke\"])\n",
    "    fig, ax = plt.subplots(figsize=(6, 6))\n",
    "    disp.plot(ax=ax, cmap=\"Blues\", values_format='d')\n",
    "    plt.title(\"Confusion Matrix: Random Forest\")\n",
    "    plt.tight_layout()\n",
    "    plt.savefig(\"confusion_matrix.png\")\n",
    "    mlflow.log_artifact(\"confusion_matrix.png\")\n",
    "    plt.close()"
   ]
  },
  {
   "cell_type": "code",
   "execution_count": 11,
   "metadata": {},
   "outputs": [
    {
     "name": "stdout",
     "output_type": "stream",
     "text": [
      "healthcare-dataset-stroke-data.csv\n",
      "LightGBM_StrokePrediction_MLflow.ipynb\n",
      "LogisticRegression_StrokePrediction_MLflow.ipynb\n",
      "mlruns\n",
      "RandomForest_StrokePrediction_MLflow.ipynb\n",
      "SVM_StrokePrediction_MLflow.ipynb\n",
      "XGBoost_StrokePrediction_MLflow.ipynb\n"
     ]
    }
   ],
   "source": [
    "!ls"
   ]
  },
  {
   "cell_type": "code",
   "execution_count": 23,
   "metadata": {},
   "outputs": [],
   "source": [
    "artifact_uri = mlflow.get_artifact_uri()"
   ]
  },
  {
   "cell_type": "code",
   "execution_count": 24,
   "metadata": {},
   "outputs": [
    {
     "data": {
      "text/plain": [
       "'file:///mlflow/mlruns/5/3cf963f0620d407d84ccd4e5e53df658/artifacts'"
      ]
     },
     "execution_count": 24,
     "metadata": {},
     "output_type": "execute_result"
    }
   ],
   "source": [
    "artifact_uri"
   ]
  },
  {
   "cell_type": "code",
   "execution_count": 7,
   "metadata": {},
   "outputs": [
    {
     "name": "stdout",
     "output_type": "stream",
     "text": [
      "/home/jovyan\n"
     ]
    }
   ],
   "source": [
    "!pwd"
   ]
  },
  {
   "cell_type": "code",
   "execution_count": 8,
   "metadata": {},
   "outputs": [
    {
     "name": "stdout",
     "output_type": "stream",
     "text": [
      "work\n"
     ]
    }
   ],
   "source": [
    "!ls"
   ]
  }
 ],
 "metadata": {
  "colab": {
   "provenance": []
  },
  "kernelspec": {
   "display_name": "Python 3 (ipykernel)",
   "language": "python",
   "name": "python3"
  },
  "language_info": {
   "codemirror_mode": {
    "name": "ipython",
    "version": 3
   },
   "file_extension": ".py",
   "mimetype": "text/x-python",
   "name": "python",
   "nbconvert_exporter": "python",
   "pygments_lexer": "ipython3",
   "version": "3.11.6"
  }
 },
 "nbformat": 4,
 "nbformat_minor": 4
}
